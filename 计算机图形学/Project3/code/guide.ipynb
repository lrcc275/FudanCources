{
 "cells": [
  {
   "cell_type": "markdown",
   "id": "9421dbcc-9b93-4bbc-bda9-fea052680b07",
   "metadata": {},
   "source": [
    "## 数据处理"
   ]
  },
  {
   "cell_type": "markdown",
   "id": "6a114881",
   "metadata": {},
   "source": [
    "参考文档：[process_data](https://github.com/yerfor/GeneFacePlusPlus/blob/main/docs/process_data/guide-zh.md)"
   ]
  },
  {
   "cell_type": "code",
   "execution_count": null,
   "id": "cc6264e2-d7c8-4060-a4ea-977e77262251",
   "metadata": {},
   "outputs": [],
   "source": [
    "ffmpeg -i data/raw/videos/wzx.mp4 -vf fps=25,scale=w=512:h=512 -qmin 1 -q:v 1 data/raw/videos/wzx_512.mp4\n",
    "mv data/raw/videos/wzx.mp4 data/raw/videos/wzx_to_rm.mp4\n",
    "mv data/raw/videos/wzx_512.mp4 data/raw/videos/wzx.mp4"
   ]
  },
  {
   "cell_type": "code",
   "execution_count": null,
   "id": "8ee2663f-7cc9-4979-acf9-dabb20a32264",
   "metadata": {},
   "outputs": [],
   "source": [
    "export CUDA_VISIBLE_DEVICES=0\n",
    "export PYTHONPATH=./\n",
    "export VIDEO_ID=wzx\n",
    "mkdir -p data/processed/videos/wzx\n",
    "ffmpeg -i data/raw/videos/wzx.mp4 -f wav -ar 16000 data/processed/videos/wzx/aud.wav \n",
    "python data_gen/utils/process_audio/extract_hubert.py --video_id=wzx\n",
    "python data_gen/utils/process_audio/extract_mel_f0.py --video_id=wzx"
   ]
  },
  {
   "cell_type": "code",
   "execution_count": null,
   "id": "da6278b7-f888-42a2-a4df-36fbaa823865",
   "metadata": {},
   "outputs": [],
   "source": [
    "export PYTHONPATH=./\n",
    "export VIDEO_ID=wzx\n",
    "export CUDA_VISIBLE_DEVICES=0\n",
    "mkdir -p data/processed/videos/wzx/gt_imgs\n",
    "ffmpeg -i data/raw/videos/wzx.mp4 -vf fps=25,scale=w=512:h=512 -qmin 1 -q:v 1 -start_number 0 data/processed/videos/wzx/gt_imgs/%08d.jpg\n",
    "python data_gen/utils/process_video/extract_segment_imgs.py --ds_name=nerf --vid_dir=data/raw/videos/wzx.mp4 # extract image, segmap, and background"
   ]
  },
  {
   "cell_type": "code",
   "execution_count": null,
   "id": "bb29e266-4623-487b-a7c8-cfa99f6b9759",
   "metadata": {},
   "outputs": [],
   "source": [
    "export PYTHONPATH=./\n",
    "export VIDEO_ID=wzx\n",
    "python data_gen/utils/process_video/extract_lm2d.py --ds_name=nerf --vid_dir=data/raw/videos/wzx.mp4"
   ]
  },
  {
   "cell_type": "code",
   "execution_count": null,
   "id": "15a8ac4e-1d6d-408a-8eca-2fd0857e877b",
   "metadata": {},
   "outputs": [],
   "source": [
    "export PYTHONPATH=./\n",
    "export VIDEO_ID=wzx\n",
    "export CUDA_VISIBLE_DEVICES=0\n",
    "python data_gen/utils/process_video/fit_3dmm_landmark.py --ds_name=nerf --vid_dir=data/raw/videos/wzx.mp4 --reset  --debug --id_mode=global"
   ]
  },
  {
   "cell_type": "code",
   "execution_count": null,
   "id": "b1d1a7fd-f7d0-43c4-8f42-91df14d1f6c8",
   "metadata": {},
   "outputs": [],
   "source": [
    "export PYTHONPATH=./\n",
    "export VIDEO_ID=wzx\n",
    "python data_gen/runs/binarizer_nerf.py --video_id=wzx"
   ]
  },
  {
   "cell_type": "markdown",
   "id": "534768ba-e14c-4080-b366-892169a23923",
   "metadata": {},
   "source": [
    "## 开始训练"
   ]
  },
  {
   "cell_type": "markdown",
   "id": "acdf0911",
   "metadata": {},
   "source": [
    "参考文档：[train_and_infer](https://github.com/yerfor/GeneFacePlusPlus/blob/main/docs/train_and_infer/guide-zh.md)"
   ]
  },
  {
   "cell_type": "code",
   "execution_count": null,
   "id": "5d227fd7-eb00-4d5e-8ef5-e83e178738b3",
   "metadata": {},
   "outputs": [],
   "source": [
    "# 训练 Head NeRF 模型\n",
    "# 模型与tensorboard会被保存在 `checkpoints/<exp_name>`\n",
    "python tasks/run.py --config=egs/datasets/wzx/lm3d_radnerf_sr.yaml --exp_name=motion2video_nerf/wzx_head --reset"
   ]
  },
  {
   "cell_type": "code",
   "execution_count": null,
   "id": "6fadcda3-4114-4672-abc3-c69e4259de08",
   "metadata": {},
   "outputs": [],
   "source": [
    "# 训练 Torso NeRF 模型\n",
    "python tasks/run.py --config=egs/datasets/wzx/lm3d_radnerf_torso_sr.yaml --exp_name=motion2video_nerf/wzx_torso --hparams=head_model_dir=checkpoints/motion2video_nerf/wzx_head --reset"
   ]
  },
  {
   "cell_type": "code",
   "execution_count": null,
   "id": "811271e2-c227-435f-a84c-f073f5b20388",
   "metadata": {},
   "outputs": [],
   "source": [
    "# 推理\n",
    "python inference/genefacepp_infer.py --head_ckpt= --torso_ckpt=checkpoints/motion2video_nerf/wzx_torso --drv_aud=data/raw/val_wavs/graphics.wav"
   ]
  }
 ],
 "metadata": {
  "kernelspec": {
   "display_name": "Python 3 (ipykernel)",
   "language": "python",
   "name": "python3"
  },
  "language_info": {
   "codemirror_mode": {
    "name": "ipython",
    "version": 3
   },
   "file_extension": ".py",
   "mimetype": "text/x-python",
   "name": "python",
   "nbconvert_exporter": "python",
   "pygments_lexer": "ipython3",
   "version": "3.8.10"
  }
 },
 "nbformat": 4,
 "nbformat_minor": 5
}
